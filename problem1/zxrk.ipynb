{
 "cells": [
  {
   "cell_type": "code",
   "execution_count": 1,
   "metadata": {},
   "outputs": [],
   "source": [
    "import pandas as pd\n",
    "pd.set_option('display.max_columns', 1000)\n",
    "import numpy as np\n",
    "import math\n",
    "import matplotlib.pyplot as plt\n",
    "import os\n",
    "import sys\n",
    "from sklearn import linear_model\n",
    "from sklearn.preprocessing import MinMaxScaler\n",
    "from sklearn.preprocessing import StandardScaler\n",
    "from sklearn.preprocessing import RobustScaler\n",
    "from sklearn.preprocessing import Imputer\n",
    "from sklearn.model_selection import train_test_split\n",
    "import xgboost as xgb\n",
    "from xgboost import plot_importance\n",
    "from sklearn.metrics import confusion_matrix\n",
    "from ml_util import *\n",
    "from sklearn.model_selection import cross_val_score\n",
    "\n",
    "cols = ['UpdateTime', 'UpdateMillisec', 'InstrumentID', 'Volume', 'LastPrice', 'OpenInterest', 'PreSettlementPrice',\n",
    "        'PreClosePrice', 'PreOpenInterest', 'OpenPrice', 'HighestPrice', 'LowestPrice', 'ClosePrice', 'SettlementPrice',\n",
    "        'UpperLimitPrice', 'LowerLimitPrice', 'BidPrice1', 'AskPrice1', 'BidVolume1', 'AskVolume1', 'Turnover', 'TradingDay', 'LocalTime']\n",
    "\n",
    "def MACD(mp, window_size):\n",
    "    ema_long = mp.ewm(span=2*window_size, adjust=False).mean()\n",
    "    ema_short = mp.ewm(span=window_size, adjust=False).mean()\n",
    "    diff = ema_long - ema_short\n",
    "    dea = diff.ewm(span=math.ceil(0.8*window_size), adjust=False).mean()\n",
    "    return 2*(diff - dea)\n",
    "\n",
    "contract_size = 300\n",
    "time_set = [1,3,5,10,20,30,50, 100, 200]\n",
    "x_col = []\n",
    "y_col = 'yield_diff'\n",
    "df_list = []\n",
    "data_path = '../data/'\n",
    "\n"
   ]
  },
  {
   "cell_type": "code",
   "execution_count": 2,
   "metadata": {},
   "outputs": [],
   "source": [
    "# data handling\n",
    "for f in os.listdir(data_path):\n",
    "    if 'tick' not in f:\n",
    "        continue\n",
    "    df = pd.read_csv(data_path+f, header=0, names = cols, dtype={'UpdateTime':str, 'UpdateMillisec':str})\n",
    "    df['mp'] = (df['BidPrice1'] + df['AskPrice1'])/2\n",
    "    df['wp'] = (df['BidPrice1'] * df['BidVolume1'] + df['AskPrice1'] * df['AskVolume1']) / (df['BidVolume1'] + df['AskVolume1'])\n",
    "    df['rwp'] = (df['BidPrice1'] * df['AskVolume1'] + df['AskPrice1'] * df['BidVolume1']) / (df['BidVolume1'] + df['AskVolume1'])\n",
    "    df['atp'] = df['Turnover'].diff(1) / df['Volume'].diff(1) / contract_size\n",
    "    df['wp-mp'] = df['wp'] - df['mp']\n",
    "    df['rwp-mp'] = df['rwp'] - df['mp']\n",
    "    df['atp-mp'] = df['atp'] - df['mp']\n",
    "    df['r10'] = df['mp'].diff(-10) / df['mp']\n",
    "    df = df[df['UpdateTime'] > '09']\n",
    "    df['time_str'] = df['UpdateTime'] + df['UpdateMillisec']\n",
    "    df_x = df[df['InstrumentID'] == 'IF2009']\n",
    "    df_y = df[df['InstrumentID'] == 'IF2008']\n",
    "    df = pd.merge(df_x, df_y, on=['time_str'], how='inner')\n",
    "    df['mid_delta'] = df['mp_x'] - df['mp_y']\n",
    "    for t in time_set:\n",
    "        for s in ['x', 'y']:\n",
    "            df['mid_diff_%s_%d' % (s, t)] = df['mp_%s' % (s)].diff(t)\n",
    "            x_col.append('mid_diff_%s_%d' % (s, t))\n",
    "            df['openinterest_diff_%s_%d' % (s, t)] = df['OpenInterest_%s' % (s)].diff(t)\n",
    "            x_col.append('openinterest_diff_%s_%d' % (s, t))\n",
    "            df['mid_delta_diff_%d' % (t)] = df['mid_delta'].diff(t)\n",
    "            x_col.append('mid_delta_diff_%d' % (t))\n",
    "            df['wp-mp_diff_%s_%d' % (s, t)] = df['wp-mp_%s' %(s)].diff(t)\n",
    "            x_col.append('wp-mp_diff_%s_%d' % (s, t))\n",
    "            df['atp-mp_diff_%s_%d' % (s, t)] = df['atp-mp_%s' %(s)].diff(t)\n",
    "            x_col.append('atp-mp_diff_%s_%d' % (s, t))\n",
    "            df['rwp-mp_diff_%s_%d' % (s, t)] = df['rwp-mp_%s' %(s)].diff(t)\n",
    "            x_col.append('rwp-mp_diff_%s_%d' % (s, t))\n",
    "        if t > 1:\n",
    "            df['mid_delta_gap_%d'%(t)] = (df['mid_delta'] - df['mid_delta'].rolling(t).mean())/(df['mid_delta'].rolling(t).std()+1e-5)\n",
    "            x_col.append('mid_delta_gap_%d'%(t))\n",
    "            df['macd_mid_%s_%d' % (s, t)] = MACD(df['mp_%s'%(s)], t)\n",
    "            x_col.append('macd_mid_%s_%d' % (s, t))\n",
    "            \n",
    "    df_list.append(df)\n",
    "\n",
    "x_col += ['wp-mp_x', 'atp-mp_x', 'rwp-mp_x']\n",
    "x_col += ['wp-mp_y', 'atp-mp_y', 'rwp-mp_y']\n",
    "\n",
    "x_col = list(set(x_col))\n",
    "    \n",
    "df = reduce(lambda x,y: x.append(y), df_list)\n",
    "df[y_col] = df['r10_x'] - df['r10_y']\n",
    "\n",
    "x, y = df[x_col].values, df[y_col].values"
   ]
  },
  {
   "cell_type": "code",
   "execution_count": 3,
   "metadata": {},
   "outputs": [
    {
     "data": {
      "text/plain": [
       "(0, 0)"
      ]
     },
     "execution_count": 3,
     "metadata": {},
     "output_type": "execute_result"
    }
   ],
   "source": [
    "# ensure no inf\n",
    "np.isinf(df[x_col].describe().loc['max']).sum(), np.isinf(df[x_col].describe().loc['min']).sum()"
   ]
  },
  {
   "cell_type": "code",
   "execution_count": 4,
   "metadata": {},
   "outputs": [],
   "source": [
    "# scaler\n",
    "x = RobustScaler().fit_transform(x)\n",
    "#x_col_map = {t:i for i, t in enumerate(x_col)} "
   ]
  },
  {
   "cell_type": "code",
   "execution_count": 5,
   "metadata": {},
   "outputs": [
    {
     "data": {
      "image/png": "[encoded data removed]",
      "text/plain": [
       "<Figure size 432x288 with 1 Axes>"
      ]
     },
     "metadata": {
      "needs_background": "light"
     },
     "output_type": "display_data"
    }
   ],
   "source": [
    "# target distribution\n",
    "plt.title('y distribution')\n",
    "plt.hist(df[~np.isnan(df[y_col])][y_col])\n",
    "plt.show()"
   ]
  },
  {
   "cell_type": "code",
   "execution_count": 6,
   "metadata": {},
   "outputs": [
    {
     "data": {
      "image/png": "[encoded data removed]",
      "text/plain": [
       "<Figure size 432x288 with 1 Axes>"
      ]
     },
     "metadata": {
      "needs_background": "light"
     },
     "output_type": "display_data"
    }
   ],
   "source": [
    "# correlation between features and target\n",
    "PlotFactorCorr(x, y)"
   ]
  },
  {
   "cell_type": "code",
   "execution_count": 7,
   "metadata": {},
   "outputs": [],
   "source": [
    "# split data into training_set and test_set\n",
    "test_ratio = 0.2\n",
    "valid_ratio = 0.2\n",
    "x_train, x_test, y_train, y_test = train_test_split(x, y, test_size=test_ratio, random_state=0)\n",
    "x_train, x_valid, y_train, y_valid = train_test_split(x_train, y_train, test_size = 0.2, random_state=0)"
   ]
  },
  {
   "cell_type": "code",
   "execution_count": 8,
   "metadata": {},
   "outputs": [],
   "source": [
    "# linear model\n",
    "#model = linear_model.ElasticNetCV(alphas=[0.0,0.0001, 0.0005, 0.001, 0.01, 0.1, 1, 10], l1_ratio=[0.0, .01, .1, .5, .9, .99, 0.1],  max_iter=5000,  tol=1e-15)\n",
    "#model.fit(x_train, y_train)\n",
    "#print('expr:y=%s*x+%lf, iter=%d' % (str(model.coef_), model.intercept_, model.n_iter_))"
   ]
  },
  {
   "cell_type": "code",
   "execution_count": 9,
   "metadata": {},
   "outputs": [
    {
     "name": "stderr",
     "output_type": "stream",
     "text": [
      "/root/anaconda2/lib/python2.7/site-packages/ipykernel_launcher.py:5: RuntimeWarning: invalid value encountered in greater\n",
      "  \"\"\"\n",
      "/root/anaconda2/lib/python2.7/site-packages/ipykernel_launcher.py:6: RuntimeWarning: invalid value encountered in greater\n",
      "  \n"
     ]
    },
    {
     "name": "stdout",
     "output_type": "stream",
     "text": [
      "[0]\tvalidation_0-logloss:0.632016\tvalidation_1-logloss:0.673369\n",
      "Multiple eval metrics have been passed: 'validation_1-logloss' will be used for early stopping.\n",
      "\n",
      "Will train until validation_1-logloss hasn't improved in 10 rounds.\n",
      "[1]\tvalidation_0-logloss:0.581137\tvalidation_1-logloss:0.657397\n",
      "[2]\tvalidation_0-logloss:0.535888\tvalidation_1-logloss:0.643993\n",
      "[3]\tvalidation_0-logloss:0.495594\tvalidation_1-logloss:0.632627\n",
      "[4]\tvalidation_0-logloss:0.459386\tvalidation_1-logloss:0.623815\n",
      "[5]\tvalidation_0-logloss:0.426524\tvalidation_1-logloss:0.616003\n",
      "[6]\tvalidation_0-logloss:0.396973\tvalidation_1-logloss:0.609068\n",
      "[7]\tvalidation_0-logloss:0.369802\tvalidation_1-logloss:0.603007\n",
      "[8]\tvalidation_0-logloss:0.345152\tvalidation_1-logloss:0.597949\n",
      "[9]\tvalidation_0-logloss:0.322712\tvalidation_1-logloss:0.593937\n",
      "[10]\tvalidation_0-logloss:0.302418\tvalidation_1-logloss:0.589904\n",
      "[11]\tvalidation_0-logloss:0.283805\tvalidation_1-logloss:0.587219\n",
      "[12]\tvalidation_0-logloss:0.266699\tvalidation_1-logloss:0.58442\n",
      "[13]\tvalidation_0-logloss:0.251027\tvalidation_1-logloss:0.582328\n",
      "[14]\tvalidation_0-logloss:0.236721\tvalidation_1-logloss:0.580824\n",
      "[15]\tvalidation_0-logloss:0.223502\tvalidation_1-logloss:0.579341\n",
      "[16]\tvalidation_0-logloss:0.21136\tvalidation_1-logloss:0.578103\n",
      "[17]\tvalidation_0-logloss:0.200185\tvalidation_1-logloss:0.577134\n",
      "[18]\tvalidation_0-logloss:0.189857\tvalidation_1-logloss:0.575829\n",
      "[19]\tvalidation_0-logloss:0.180297\tvalidation_1-logloss:0.5756\n",
      "[20]\tvalidation_0-logloss:0.171438\tvalidation_1-logloss:0.575352\n",
      "[21]\tvalidation_0-logloss:0.163207\tvalidation_1-logloss:0.575068\n",
      "[22]\tvalidation_0-logloss:0.155596\tvalidation_1-logloss:0.57509\n",
      "[23]\tvalidation_0-logloss:0.148539\tvalidation_1-logloss:0.575521\n",
      "[24]\tvalidation_0-logloss:0.141929\tvalidation_1-logloss:0.575848\n",
      "[25]\tvalidation_0-logloss:0.13578\tvalidation_1-logloss:0.576551\n",
      "[26]\tvalidation_0-logloss:0.130035\tvalidation_1-logloss:0.576773\n",
      "[27]\tvalidation_0-logloss:0.124683\tvalidation_1-logloss:0.577215\n",
      "[28]\tvalidation_0-logloss:0.11962\tvalidation_1-logloss:0.577912\n",
      "[29]\tvalidation_0-logloss:0.114942\tvalidation_1-logloss:0.578321\n",
      "[30]\tvalidation_0-logloss:0.110538\tvalidation_1-logloss:0.578952\n",
      "[31]\tvalidation_0-logloss:0.1064\tvalidation_1-logloss:0.580011\n",
      "Stopping. Best iteration:\n",
      "[21]\tvalidation_0-logloss:0.163207\tvalidation_1-logloss:0.575068\n",
      "\n"
     ]
    }
   ],
   "source": [
    "# xgboost model\n",
    "model = xgb.XGBClassifier(max_depth=50, learning_rate=0.1, n_estimators=1000, silent=False, objective='binary:logistic', num_classes=2,\n",
    "                          booster='gbtree', n_jobs=1, nthread=None, gamma=0, min_child_weight=1, max_delta_step=0,\n",
    "                          subsample=1, colsample_bytree=1, colsample_bylevel=1, reg_alpha=0, reg_lambda=1, scale_pos_weight=1)\n",
    "eval_set = [(x_train, y_train>0),(x_valid, y_valid>0)]\n",
    "model.fit(x_train, y_train>0, eval_set=eval_set, verbose=True, eval_metric='logloss', early_stopping_rounds=10)\n",
    "y_onehot_pred = model.predict(x_test)"
   ]
  },
  {
   "cell_type": "code",
   "execution_count": 10,
   "metadata": {},
   "outputs": [
    {
     "name": "stderr",
     "output_type": "stream",
     "text": [
      "/root/anaconda2/lib/python2.7/site-packages/ipykernel_launcher.py:2: RuntimeWarning: invalid value encountered in greater\n",
      "  \n"
     ]
    },
    {
     "name": "stdout",
     "output_type": "stream",
     "text": [
      "Confusion matrix, without normalization\n"
     ]
    },
    {
     "data": {
      "image/png": "[encoded data removed]",
      "text/plain": [
       "<Figure size 432x288 with 2 Axes>"
      ]
     },
     "metadata": {
      "needs_background": "light"
     },
     "output_type": "display_data"
    },
    {
     "name": "stdout",
     "output_type": "stream",
     "text": [
      "              precision    recall  f1-score   support\n",
      "\n",
      "      class0       1.00      1.00      1.00     50058\n",
      "      class1       1.00      1.00      1.00     30210\n",
      "\n",
      "   micro avg       1.00      1.00      1.00     80268\n",
      "   macro avg       1.00      1.00      1.00     80268\n",
      "weighted avg       1.00      1.00      1.00     80268\n",
      "\n"
     ]
    },
    {
     "data": {
      "image/png": "[encoded data removed]",
      "text/plain": [
       "<Figure size 432x288 with 1 Axes>"
      ]
     },
     "metadata": {
      "needs_background": "light"
     },
     "output_type": "display_data"
    },
    {
     "data": {
      "image/png": "[encoded data removed]",
      "text/plain": [
       "<Figure size 432x288 with 1 Axes>"
      ]
     },
     "metadata": {
      "needs_background": "light"
     },
     "output_type": "display_data"
    }
   ],
   "source": [
    "# xgboost result visualize, and select features according to plot_importance\n",
    "a = ClsReport(model, y_train>0, model.predict(x_train)>0, binary=True)\n",
    "selected_features = [x_col[i] for i in a if i < len(a) * 0.6]\n",
    "x = x[:, a]\n",
    "test_ratio = 0.2\n",
    "valid_ratio = 0.2\n",
    "x_train, x_test, y_train, y_test = train_test_split(x, y, test_size=test_ratio, random_state=0)\n",
    "x_train, x_valid, y_train, y_valid = train_test_split(x_train, y_train, test_size = 0.2, random_state=0)"
   ]
  },
  {
   "cell_type": "code",
   "execution_count": 11,
   "metadata": {},
   "outputs": [],
   "source": [
    "#from sklearn.model_selection import cross_val_score\n",
    "#a = ClsReport(model, y_test>0, y_pred>0, binary=True)\n",
    "#model = xgb.XGBClassifier(max_depth=50, learning_rate=0.1, n_estimators=1000, silent=False, objective='binary:logistic', num_classes=2,\n",
    "                          #booster='gbtree', n_jobs=1, nthread=None, gamma=0, min_child_weight=1, max_delta_step=0,\n",
    "                          #subsample=1, colsample_bytree=1, colsample_bylevel=1, reg_alpha=0, reg_lambda=1, scale_pos_weight=1)\n",
    "#cross_val_score(model, x, y>0, cv=5)"
   ]
  },
  {
   "cell_type": "code",
   "execution_count": 12,
   "metadata": {},
   "outputs": [
    {
     "name": "stderr",
     "output_type": "stream",
     "text": [
      "/root/anaconda2/lib/python2.7/site-packages/ipykernel_launcher.py:5: RuntimeWarning: invalid value encountered in greater\n",
      "  \"\"\"\n",
      "/root/anaconda2/lib/python2.7/site-packages/sklearn/preprocessing/_encoders.py:363: FutureWarning: The handling of integer data will change in version 0.22. Currently, the categories are determined based on the range [0, max(values)], while in the future they will be determined based on the unique values.\n",
      "If you want the future behaviour and silence this warning, you can specify \"categories='auto'\".\n",
      "In case you used a LabelEncoder before this OneHotEncoder to convert the categories to integers, then you can now use the OneHotEncoder directly.\n",
      "  warnings.warn(msg, FutureWarning)\n"
     ]
    }
   ],
   "source": [
    "# sample function for lstm\n",
    "from numpy import random\n",
    "from sklearn.preprocessing import OneHotEncoder\n",
    "ohe = OneHotEncoder()\n",
    "ohe.fit(np.reshape(y>0, (-1,1)))\n",
    "def GetSamples(x, y, batch_size=64, seq_length=32):\n",
    "    count = 0\n",
    "    rx, ry, index = [], [], []\n",
    "    while count < batch_size:\n",
    "        i = random.randint(len(x)-seq_length) #, size=batch_size)\n",
    "        tx, ty = x[i:i+seq_length], y[i+seq_length-1]\n",
    "        if np.isnan(tx).sum() != 0 or np.isnan(ty).sum() != 0:\n",
    "            continue\n",
    "        rx.append(tx)\n",
    "        #print(ohe.transform(np.reshape(ty>0,(-1, 1))).toarray())\n",
    "        ry.append(ohe.transform(np.reshape(ty>0,(-1, 1))).toarray()[0])\n",
    "        index.append(i)\n",
    "        count += 1\n",
    "    return np.array(rx), np.array(ry), np.array(index)"
   ]
  },
  {
   "cell_type": "code",
   "execution_count": 13,
   "metadata": {},
   "outputs": [
    {
     "data": {
      "text/plain": [
       "(64, 2)"
      ]
     },
     "execution_count": 13,
     "metadata": {},
     "output_type": "execute_result"
    }
   ],
   "source": [
    "x_train.shape, y_train.shape\n",
    "xt, yt, _ = GetSamples(x_train, y_train)#, 1, 1)\n",
    "yt.shape\n",
    "#np.isnan(xt).sum()"
   ]
  },
  {
   "cell_type": "code",
   "execution_count": 14,
   "metadata": {
    "scrolled": true
   },
   "outputs": [
    {
     "name": "stdout",
     "output_type": "stream",
     "text": [
      "WARNING:tensorflow:From /root/anaconda2/lib/python2.7/site-packages/tensorflow/python/ops/init_ops.py:1251: calling __init__ (from tensorflow.python.ops.init_ops) with dtype is deprecated and will be removed in a future version.\n",
      "Instructions for updating:\n",
      "Call initializer instance with the dtype argument instead of passing it to the constructor\n"
     ]
    },
    {
     "ename": "ValueError",
     "evalue": "This model has not yet been built. Build the model first by calling `build()` or calling `fit()` with some data, or specify an `input_shape` argument in the first layer(s) for automatic build.",
     "output_type": "error",
     "traceback": [
      "\u001b[0;31m---------------------------------------------------------------------------\u001b[0m",
      "\u001b[0;31mValueError\u001b[0m                                Traceback (most recent call last)",
      "\u001b[0;32m<ipython-input-14-d7dce56d4d57>\u001b[0m in \u001b[0;36m<module>\u001b[0;34m()\u001b[0m\n\u001b[1;32m     21\u001b[0m \u001b[0;34m\u001b[0m\u001b[0m\n\u001b[1;32m     22\u001b[0m \u001b[0mmodel\u001b[0m \u001b[0;34m=\u001b[0m \u001b[0mlstm_model\u001b[0m\u001b[0;34m(\u001b[0m\u001b[0;34m)\u001b[0m\u001b[0;34m\u001b[0m\u001b[0m\n\u001b[0;32m---> 23\u001b[0;31m \u001b[0mmodel\u001b[0m\u001b[0;34m.\u001b[0m\u001b[0msummary\u001b[0m\u001b[0;34m(\u001b[0m\u001b[0;34m)\u001b[0m\u001b[0;34m\u001b[0m\u001b[0m\n\u001b[0m\u001b[1;32m     24\u001b[0m \u001b[0;34m\u001b[0m\u001b[0m\n\u001b[1;32m     25\u001b[0m \u001b[0;31m#mid_model = Model(inputs=model.input, outputs=model.get_layer('out').output)\u001b[0m\u001b[0;34m\u001b[0m\u001b[0;34m\u001b[0m\u001b[0m\n",
      "\u001b[0;32m/root/anaconda2/lib/python2.7/site-packages/tensorflow/python/keras/engine/network.pyc\u001b[0m in \u001b[0;36msummary\u001b[0;34m(self, line_length, positions, print_fn)\u001b[0m\n\u001b[1;32m   1502\u001b[0m     \"\"\"\n\u001b[1;32m   1503\u001b[0m     \u001b[0;32mif\u001b[0m \u001b[0;32mnot\u001b[0m \u001b[0mself\u001b[0m\u001b[0;34m.\u001b[0m\u001b[0mbuilt\u001b[0m\u001b[0;34m:\u001b[0m\u001b[0;34m\u001b[0m\u001b[0m\n\u001b[0;32m-> 1504\u001b[0;31m       raise ValueError('This model has not yet been built. '\n\u001b[0m\u001b[1;32m   1505\u001b[0m                        \u001b[0;34m'Build the model first by calling `build()` or calling '\u001b[0m\u001b[0;34m\u001b[0m\u001b[0m\n\u001b[1;32m   1506\u001b[0m                        \u001b[0;34m'`fit()` with some data, or specify '\u001b[0m\u001b[0;34m\u001b[0m\u001b[0m\n",
      "\u001b[0;31mValueError\u001b[0m: This model has not yet been built. Build the model first by calling `build()` or calling `fit()` with some data, or specify an `input_shape` argument in the first layer(s) for automatic build."
     ]
    }
   ],
   "source": [
    "# lstm model\n",
    "from tensorflow import keras\n",
    "from tensorflow.keras import layers\n",
    "from tensorflow.keras import Model\n",
    "from tensorflow.keras import activations\n",
    "\n",
    "batch_size = 512\n",
    "seq_length = 32\n",
    "def lstm_model():\n",
    "    model = keras.Sequential()\n",
    "    #model.add(layers.Dense(300, activation='relu', input_shape=(seq_length, x.shape[1]))),#, return_sequences=True))\n",
    "    #model.add(layers.Flatten())\n",
    "    model.add(layers.LSTM(50, return_sequences=False,name='out'))\n",
    "    model.add(layers.Dense(20, activation='relu'))\n",
    "    model.add(layers.Dense(2, name='out'))\n",
    "    model.add(layers.Activation('sigmoid'))\n",
    "    model.compile(optimizer=keras.optimizers.Adam(lr=1e-5),\n",
    "                 loss=keras.losses.CategoricalCrossentropy(),\n",
    "                 metrics=['accuracy'])\n",
    "    return model\n",
    "\n",
    "model = lstm_model()\n",
    "model.summary()\n",
    "\n",
    "#mid_model = Model(inputs=model.input, outputs=model.get_layer('out').output)\n"
   ]
  },
  {
   "cell_type": "code",
   "execution_count": null,
   "metadata": {},
   "outputs": [],
   "source": [
    "# training\n",
    "num = batch_size\n",
    "\n",
    "for i in range(100):\n",
    "    #print(np.isnan(xt).sum())\n",
    "    #print(model.predict(xt[:num]), GetMidRes(model, 'out', xt[:num]))\n",
    "    xt, yt, index = GetSamples(x_train, y_train, batch_size=batch_size, seq_length=seq_length)\n",
    "    model.fit(xt[:num], yt[:num])\n",
    "    #print(model.predict(xt[:num]), yt[:num], GetMidRes(model, 'out', xt[:num]))\n",
    "    #if np.isnan(model.predict(xt[:num])).sum() > 0:\n",
    "    #print(xt[:num], yt[:num], index, model.predict(xt[:num]))\n",
    "    #raw_input()\n",
    "    #break"
   ]
  },
  {
   "cell_type": "code",
   "execution_count": null,
   "metadata": {
    "scrolled": true
   },
   "outputs": [],
   "source": [
    "for col in x_col:\n",
    "    df[col].describe()\n",
    "    df[col].plot.box(title=col)\n",
    "    plt.show()\n",
    "    "
   ]
  },
  {
   "cell_type": "code",
   "execution_count": null,
   "metadata": {
    "scrolled": true
   },
   "outputs": [],
   "source": [
    "from sklearn.preprocessing import StandardScaler as ss\n",
    "from sklearn.preprocessing import Imputer\n",
    "df['atp-mp_diff_x_20'].plot.box()\n",
    "plt.show()\n",
    "d = np.reshape(df['atp-mp_diff_x_20'].tolist(), (-1, 1))\n",
    "d = Imputer(missing_values='NaN', strategy='mean',axis=0).fit_transform(d)\n",
    "plt.boxplot(ss().fit_transform(d))\n",
    "plt.show()\n",
    "plt.hist(ss().fit_transform(d))\n",
    "plt.show()\n",
    "ss().fit_transform(x)"
   ]
  }
 ],
 "metadata": {
  "kernelspec": {
   "display_name": "Python 2",
   "language": "python",
   "name": "python2"
  },
  "language_info": {
   "codemirror_mode": {
    "name": "ipython",
    "version": 2
   },
   "file_extension": ".py",
   "mimetype": "text/x-python",
   "name": "python",
   "nbconvert_exporter": "python",
   "pygments_lexer": "ipython2",
   "version": "2.7.15"
  }
 },
 "nbformat": 4,
 "nbformat_minor": 2
}
