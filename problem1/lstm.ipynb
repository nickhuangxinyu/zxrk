{
 "cells": [
  {
   "cell_type": "code",
   "execution_count": 1,
   "metadata": {},
   "outputs": [
    {
     "data": {
      "text/plain": [
       "(125419, 147)"
      ]
     },
     "execution_count": 1,
     "metadata": {},
     "output_type": "execute_result"
    }
   ],
   "source": [
    "from data_loader import DataLoader\n",
    "import xgboost as xgb\n",
    "import pandas as pd\n",
    "import numpy as np\n",
    "import os\n",
    "import sys\n",
    "from ml_util import *\n",
    "\n",
    "dl = DataLoader('../data/')\n",
    "x, y = dl.x, dl.y\n",
    "data = np.hstack([x,np.reshape(y, (-1,1))])\n",
    "\n",
    "data.shape"
   ]
  },
  {
   "cell_type": "code",
   "execution_count": 2,
   "metadata": {},
   "outputs": [
    {
     "data": {
      "text/plain": [
       "(79819, 32, 147)"
      ]
     },
     "execution_count": 2,
     "metadata": {},
     "output_type": "execute_result"
    }
   ],
   "source": [
    "seq_length = 32\n",
    "batch_size =512\n",
    "def GetSamplePool(data, seq_length=seq_length):\n",
    "    r = []\n",
    "    for i in range(len(data)-seq_length):\n",
    "        if np.isnan(data[i:i+seq_length]).sum() == 0 and np.isinf(data[i:i+seq_length]).sum() == 0:\n",
    "            r.append(data[i:i+seq_length])\n",
    "    return np.array(r)\n",
    "            \n",
    "data_pool = GetSamplePool(data)\n",
    "data_pool.shape"
   ]
  },
  {
   "cell_type": "code",
   "execution_count": 3,
   "metadata": {},
   "outputs": [
    {
     "data": {
      "text/plain": [
       "((51084, 32, 146),\n",
       " (12771, 32, 146),\n",
       " (15964, 32, 146),\n",
       " (51084, 1),\n",
       " (12771, 1),\n",
       " (15964, 1))"
      ]
     },
     "execution_count": 3,
     "metadata": {},
     "output_type": "execute_result"
    }
   ],
   "source": [
    "from sklearn.model_selection import train_test_split\n",
    "\n",
    "train_x,  test_x, train_y, test_y = train_test_split(data_pool[:,:,:-1], data_pool[:,-1,-1], test_size=0.2, random_state=1)\n",
    "train_x, valid_x, train_y,  valid_y = train_test_split(train_x, train_y, test_size=0.2, random_state=1)\n",
    "train_y = np.reshape(train_y, (-1, 1))\n",
    "valid_y = np.reshape(valid_y, (-1, 1))\n",
    "test_y = np.reshape(test_y, (-1, 1))\n",
    "train_x.shape, valid_x.shape, test_x.shape, train_y.shape, valid_y.shape, test_y.shape"
   ]
  },
  {
   "cell_type": "code",
   "execution_count": 4,
   "metadata": {},
   "outputs": [
    {
     "name": "stderr",
     "output_type": "stream",
     "text": [
      "/root/anaconda2/lib/python2.7/site-packages/ipykernel_launcher.py:3: RuntimeWarning: invalid value encountered in greater\n",
      "  This is separate from the ipykernel package so we can avoid doing imports until\n",
      "/root/anaconda2/lib/python2.7/site-packages/sklearn/preprocessing/_encoders.py:363: FutureWarning: The handling of integer data will change in version 0.22. Currently, the categories are determined based on the range [0, max(values)], while in the future they will be determined based on the unique values.\n",
      "If you want the future behaviour and silence this warning, you can specify \"categories='auto'\".\n",
      "In case you used a LabelEncoder before this OneHotEncoder to convert the categories to integers, then you can now use the OneHotEncoder directly.\n",
      "  warnings.warn(msg, FutureWarning)\n"
     ]
    },
    {
     "data": {
      "text/plain": [
       "OneHotEncoder(categorical_features=None, categories=None,\n",
       "       dtype=<type 'numpy.float64'>, handle_unknown='error',\n",
       "       n_values='auto', sparse=True)"
      ]
     },
     "execution_count": 4,
     "metadata": {},
     "output_type": "execute_result"
    }
   ],
   "source": [
    "from sklearn.preprocessing import OneHotEncoder\n",
    "ohe = OneHotEncoder()\n",
    "ohe.fit(np.reshape(y>0, (-1,1)))\n"
   ]
  },
  {
   "cell_type": "code",
   "execution_count": 5,
   "metadata": {},
   "outputs": [
    {
     "name": "stdout",
     "output_type": "stream",
     "text": [
      "WARNING:tensorflow:From /root/anaconda2/lib/python2.7/site-packages/tensorflow/python/ops/init_ops.py:1251: calling __init__ (from tensorflow.python.ops.init_ops) with dtype is deprecated and will be removed in a future version.\n",
      "Instructions for updating:\n",
      "Call initializer instance with the dtype argument instead of passing it to the constructor\n",
      "Model: \"sequential\"\n",
      "_________________________________________________________________\n",
      "Layer (type)                 Output Shape              Param #   \n",
      "=================================================================\n",
      "lstm (LSTM)                  (None, 50)                39400     \n",
      "_________________________________________________________________\n",
      "dense (Dense)                (None, 30)                1530      \n",
      "_________________________________________________________________\n",
      "dense_1 (Dense)              (None, 20)                620       \n",
      "_________________________________________________________________\n",
      "out (Dense)                  (None, 2)                 42        \n",
      "_________________________________________________________________\n",
      "activation (Activation)      (None, 2)                 0         \n",
      "=================================================================\n",
      "Total params: 41,592\n",
      "Trainable params: 41,592\n",
      "Non-trainable params: 0\n",
      "_________________________________________________________________\n"
     ]
    }
   ],
   "source": [
    "# lstm model\n",
    "from tensorflow import keras\n",
    "from tensorflow.keras import layers\n",
    "from tensorflow.keras import Model\n",
    "from tensorflow.keras import activations\n",
    "import tensorflow as tf\n",
    "\n",
    "def focal_loss(pred, real,gamma=2):\n",
    "    L=-real*((1-pred)**gamma)*tf.log(pred+1e-15)\n",
    "    L=tf.reduce_sum(L,axis=1)\n",
    "    return L\n",
    "\n",
    "def lstm_model():\n",
    "    model = keras.Sequential()\n",
    "    #model.add(layers.Dense(50, activation='relu', input_dim = dl.x.shape[1])),#, return_sequences=True))\n",
    "    #model.add(layers.Flatten())\n",
    "    model.add(layers.LSTM(50, input_shape=(seq_length, dl.x.shape[1]),return_sequences=False))\n",
    "    model.add(layers.Dense(30, activation='relu'))\n",
    "    #model.add(layers.Dense(20, activation='relu'))\n",
    "    model.add(layers.Dense(2, name='out'))\n",
    "    model.add(layers.Activation('sigmoid'))\n",
    "    model.compile(optimizer=keras.optimizers.Adam(lr=1e-4),\n",
    "        #optimizer=keras.optimizers.SGD(1e-2),\n",
    "        loss=keras.losses.CategoricalCrossentropy(),\n",
    "        #loss = focal_loss,\n",
    "        metrics=['accuracy'])\n",
    "        #metrics = [tf.keras.metrics.AUC(name='auc')])\n",
    "    return model\n",
    "\n",
    "model = lstm_model()\n",
    "model.summary()"
   ]
  },
  {
   "cell_type": "code",
   "execution_count": 6,
   "metadata": {},
   "outputs": [
    {
     "data": {
      "text/plain": [
       "'\\nfrom numpy import random\\nfrom sklearn.preprocessing import OneHotEncoder\\nohe = OneHotEncoder()\\nohe.fit(np.reshape(dl.y>0, (-1,1)))\\n\\ndef GenSeqSamples(x, y, batch_size=64, seq_length=32):\\n    count = 0\\n    rx, ry, index = [], [], []\\n    while count < batch_size:\\n        i = random.randint(len(x)-seq_length) #, size=batch_size)\\n        tx, ty = x[i:i+seq_length], y[i+seq_length-1]\\n        if np.isnan(tx).sum() != 0 or np.isnan(ty).sum() != 0:\\n            continue\\n        rx.append(tx)\\n        ry.append(ohe.transform(np.reshape(ty>0,(-1, 1))).toarray()[0])\\n        index.append(i)\\n        count += 1\\n    return np.array(rx), np.array(ry), np.array(index)\\n    \\n# filter data: remove those nan and inf\\ndef Filter(x, y):\\n    nan_cond = (~np.isnan(y)) & (np.isnan(x).sum(axis=1) == 0)\\n    inf_cond = (~np.isinf(y)) & (np.isinf(x).sum(axis=1) == 0)\\n    return x[nan_cond & inf_cond], y[nan_cond * inf_cond]\\n    #print(x.shape, y_shape, rx.shape, ry.shape)\\n'"
      ]
     },
     "execution_count": 6,
     "metadata": {},
     "output_type": "execute_result"
    }
   ],
   "source": [
    "'''\n",
    "from numpy import random\n",
    "from sklearn.preprocessing import OneHotEncoder\n",
    "ohe = OneHotEncoder()\n",
    "ohe.fit(np.reshape(dl.y>0, (-1,1)))\n",
    "\n",
    "def GenSeqSamples(x, y, batch_size=64, seq_length=32):\n",
    "    count = 0\n",
    "    rx, ry, index = [], [], []\n",
    "    while count < batch_size:\n",
    "        i = random.randint(len(x)-seq_length) #, size=batch_size)\n",
    "        tx, ty = x[i:i+seq_length], y[i+seq_length-1]\n",
    "        if np.isnan(tx).sum() != 0 or np.isnan(ty).sum() != 0:\n",
    "            continue\n",
    "        rx.append(tx)\n",
    "        ry.append(ohe.transform(np.reshape(ty>0,(-1, 1))).toarray()[0])\n",
    "        index.append(i)\n",
    "        count += 1\n",
    "    return np.array(rx), np.array(ry), np.array(index)\n",
    "    \n",
    "# filter data: remove those nan and inf\n",
    "def Filter(x, y):\n",
    "    nan_cond = (~np.isnan(y)) & (np.isnan(x).sum(axis=1) == 0)\n",
    "    inf_cond = (~np.isinf(y)) & (np.isinf(x).sum(axis=1) == 0)\n",
    "    return x[nan_cond & inf_cond], y[nan_cond * inf_cond]\n",
    "    #print(x.shape, y_shape, rx.shape, ry.shape)\n",
    "'''"
   ]
  },
  {
   "cell_type": "code",
   "execution_count": 7,
   "metadata": {},
   "outputs": [],
   "source": [
    "#xt, yt, _ = GenSeqSamples(x_train, y_train)#, 1, 1)\n",
    "#xt.shape, yt.shape"
   ]
  },
  {
   "cell_type": "code",
   "execution_count": 8,
   "metadata": {},
   "outputs": [
    {
     "name": "stdout",
     "output_type": "stream",
     "text": [
      "Train on 51084 samples, validate on 12771 samples\n",
      "WARNING:tensorflow:From /root/anaconda2/lib/python2.7/site-packages/tensorflow/python/ops/math_grad.py:1250: where (from tensorflow.python.ops.array_ops) is deprecated and will be removed in a future version.\n",
      "Instructions for updating:\n",
      "Use tf.where in 2.0, which has the same broadcast rule as np.where\n",
      "Epoch 1/500\n",
      "50688/51084 [============================>.] - ETA: 0s - loss: 0.6687 - acc: 0.6041\n",
      "Epoch 00001: val_loss improved from inf to 0.64918, saving model to weights.best.h5\n",
      "51084/51084 [==============================] - 22s 430us/sample - loss: 0.6683 - acc: 0.6046 - val_loss: 0.6492 - val_acc: 0.6296\n",
      "Epoch 2/500\n",
      "50688/51084 [============================>.] - ETA: 0s - loss: 0.6284 - acc: 0.6514\n",
      "Epoch 00002: val_loss improved from 0.64918 to 0.61360, saving model to weights.best.h5\n",
      "51084/51084 [==============================] - 19s 363us/sample - loss: 0.6280 - acc: 0.6518 - val_loss: 0.6136 - val_acc: 0.6584\n",
      "Epoch 3/500\n",
      "50688/51084 [============================>.] - ETA: 0s - loss: 0.5992 - acc: 0.6771\n",
      "Epoch 00003: val_loss improved from 0.61360 to 0.59272, saving model to weights.best.h5\n",
      "51084/51084 [==============================] - 19s 369us/sample - loss: 0.5996 - acc: 0.6766 - val_loss: 0.5927 - val_acc: 0.6770\n",
      "Epoch 4/500\n",
      "50688/51084 [============================>.] - ETA: 0s - loss: 0.5849 - acc: 0.6892\n",
      "Epoch 00004: val_loss improved from 0.59272 to 0.58276, saving model to weights.best.h5\n",
      "51084/51084 [==============================] - 19s 369us/sample - loss: 0.5848 - acc: 0.6894 - val_loss: 0.5828 - val_acc: 0.6838\n",
      "Epoch 5/500\n",
      "50688/51084 [============================>.] - ETA: 0s - loss: 0.5774 - acc: 0.6937\n",
      "Epoch 00005: val_loss improved from 0.58276 to 0.57799, saving model to weights.best.h5\n",
      "51084/51084 [==============================] - 16s 313us/sample - loss: 0.5775 - acc: 0.6934 - val_loss: 0.5780 - val_acc: 0.6901\n",
      "Epoch 6/500\n",
      "50688/51084 [============================>.] - ETA: 0s - loss: 0.5738 - acc: 0.6979\n",
      "Epoch 00006: val_loss improved from 0.57799 to 0.57508, saving model to weights.best.h5\n",
      "51084/51084 [==============================] - 19s 371us/sample - loss: 0.5734 - acc: 0.6983 - val_loss: 0.5751 - val_acc: 0.6932\n",
      "Epoch 7/500\n",
      "50688/51084 [============================>.] - ETA: 0s - loss: 0.5702 - acc: 0.7005\n",
      "Epoch 00007: val_loss improved from 0.57508 to 0.57376, saving model to weights.best.h5\n",
      "51084/51084 [==============================] - 16s 307us/sample - loss: 0.5703 - acc: 0.7004 - val_loss: 0.5738 - val_acc: 0.6934\n",
      "Epoch 8/500\n",
      "50688/51084 [============================>.] - ETA: 0s - loss: 0.5678 - acc: 0.7022\n",
      "Epoch 00008: val_loss improved from 0.57376 to 0.57247, saving model to weights.best.h5\n",
      "51084/51084 [==============================] - 16s 318us/sample - loss: 0.5680 - acc: 0.7019 - val_loss: 0.5725 - val_acc: 0.6948\n",
      "Epoch 9/500\n",
      "50688/51084 [============================>.] - ETA: 0s - loss: 0.5658 - acc: 0.7037\n",
      "Epoch 00009: val_loss improved from 0.57247 to 0.57150, saving model to weights.best.h5\n",
      "51084/51084 [==============================] - 17s 323us/sample - loss: 0.5659 - acc: 0.7035 - val_loss: 0.5715 - val_acc: 0.6950\n",
      "Epoch 10/500\n",
      "50688/51084 [============================>.] - ETA: 0s - loss: 0.5640 - acc: 0.7043\n",
      "Epoch 00010: val_loss improved from 0.57150 to 0.57073, saving model to weights.best.h5\n",
      "51084/51084 [==============================] - 17s 331us/sample - loss: 0.5638 - acc: 0.7045 - val_loss: 0.5707 - val_acc: 0.6959\n",
      "Epoch 11/500\n",
      "50688/51084 [============================>.] - ETA: 0s - loss: 0.5623 - acc: 0.7060\n",
      "Epoch 00011: val_loss improved from 0.57073 to 0.57013, saving model to weights.best.h5\n",
      "51084/51084 [==============================] - 17s 323us/sample - loss: 0.5620 - acc: 0.7062 - val_loss: 0.5701 - val_acc: 0.6971\n",
      "Epoch 12/500\n",
      "50688/51084 [============================>.] - ETA: 0s - loss: 0.5601 - acc: 0.7078- ETA: \n",
      "Epoch 00012: val_loss improved from 0.57013 to 0.56962, saving model to weights.best.h5\n",
      "51084/51084 [==============================] - 24s 462us/sample - loss: 0.5602 - acc: 0.7078 - val_loss: 0.5696 - val_acc: 0.6981\n",
      "Epoch 13/500\n",
      "50688/51084 [============================>.] - ETA: 0s - loss: 0.5586 - acc: 0.7088\n",
      "Epoch 00013: val_loss improved from 0.56962 to 0.56898, saving model to weights.best.h5\n",
      "51084/51084 [==============================] - 20s 385us/sample - loss: 0.5585 - acc: 0.7091 - val_loss: 0.5690 - val_acc: 0.6996\n",
      "Epoch 14/500\n",
      "50688/51084 [============================>.] - ETA: 0s - loss: 0.5569 - acc: 0.7100\n",
      "Epoch 00014: val_loss did not improve from 0.56898\n",
      "51084/51084 [==============================] - 18s 358us/sample - loss: 0.5566 - acc: 0.7103 - val_loss: 0.5692 - val_acc: 0.6998\n",
      "Epoch 15/500\n",
      "50688/51084 [============================>.] - ETA: 0s - loss: 0.5552 - acc: 0.7108\n",
      "Epoch 00015: val_loss improved from 0.56898 to 0.56818, saving model to weights.best.h5\n",
      "51084/51084 [==============================] - 18s 357us/sample - loss: 0.5551 - acc: 0.7110 - val_loss: 0.5682 - val_acc: 0.6994\n",
      "Epoch 16/500\n",
      "50688/51084 [============================>.] - ETA: 0s - loss: 0.5533 - acc: 0.7122\n",
      "Epoch 00016: val_loss improved from 0.56818 to 0.56788, saving model to weights.best.h5\n",
      "51084/51084 [==============================] - 24s 462us/sample - loss: 0.5533 - acc: 0.7120 - val_loss: 0.5679 - val_acc: 0.7000\n",
      "Epoch 17/500\n",
      "50688/51084 [============================>.] - ETA: 0s - loss: 0.5517 - acc: 0.7138\n",
      "Epoch 00017: val_loss improved from 0.56788 to 0.56774, saving model to weights.best.h5\n",
      "51084/51084 [==============================] - 19s 377us/sample - loss: 0.5515 - acc: 0.7141 - val_loss: 0.5677 - val_acc: 0.7004\n",
      "Epoch 18/500\n",
      "50688/51084 [============================>.] - ETA: 0s - loss: 0.5495 - acc: 0.7156\n",
      "Epoch 00018: val_loss improved from 0.56774 to 0.56739, saving model to weights.best.h5\n",
      "51084/51084 [==============================] - 19s 363us/sample - loss: 0.5497 - acc: 0.7154 - val_loss: 0.5674 - val_acc: 0.7008\n",
      "Epoch 19/500\n",
      "50688/51084 [============================>.] - ETA: 0s - loss: 0.5478 - acc: 0.7171\n",
      "Epoch 00019: val_loss improved from 0.56739 to 0.56733, saving model to weights.best.h5\n",
      "51084/51084 [==============================] - 18s 349us/sample - loss: 0.5479 - acc: 0.7171 - val_loss: 0.5673 - val_acc: 0.7013\n",
      "Epoch 20/500\n",
      "50688/51084 [============================>.] - ETA: 0s - loss: 0.5461 - acc: 0.7178\n",
      "Epoch 00020: val_loss improved from 0.56733 to 0.56693, saving model to weights.best.h5\n",
      "51084/51084 [==============================] - 22s 431us/sample - loss: 0.5461 - acc: 0.7178 - val_loss: 0.5669 - val_acc: 0.7010\n",
      "Epoch 21/500\n",
      "50688/51084 [============================>.] - ETA: 0s - loss: 0.5441 - acc: 0.7197\n",
      "Epoch 00021: val_loss did not improve from 0.56693\n",
      "51084/51084 [==============================] - 18s 358us/sample - loss: 0.5442 - acc: 0.7197 - val_loss: 0.5673 - val_acc: 0.7022\n",
      "Epoch 22/500\n",
      "50688/51084 [============================>.] - ETA: 0s - loss: 0.5424 - acc: 0.7215\n",
      "Epoch 00022: val_loss improved from 0.56693 to 0.56663, saving model to weights.best.h5\n",
      "51084/51084 [==============================] - 17s 342us/sample - loss: 0.5424 - acc: 0.7214 - val_loss: 0.5666 - val_acc: 0.7035\n",
      "Epoch 23/500\n",
      "50688/51084 [============================>.] - ETA: 0s - loss: 0.5404 - acc: 0.7234\n",
      "Epoch 00023: val_loss improved from 0.56663 to 0.56642, saving model to weights.best.h5\n",
      "51084/51084 [==============================] - 15s 293us/sample - loss: 0.5404 - acc: 0.7234 - val_loss: 0.5664 - val_acc: 0.7032\n",
      "Epoch 24/500\n",
      "50688/51084 [============================>.] - ETA: 0s - loss: 0.5386 - acc: 0.7249\n",
      "Epoch 00024: val_loss did not improve from 0.56642\n",
      "51084/51084 [==============================] - 16s 309us/sample - loss: 0.5385 - acc: 0.7249 - val_loss: 0.5667 - val_acc: 0.7028\n",
      "Epoch 25/500\n",
      "50688/51084 [============================>.] - ETA: 0s - loss: 0.5365 - acc: 0.7269\n",
      "Epoch 00025: val_loss did not improve from 0.56642\n",
      "51084/51084 [==============================] - 16s 309us/sample - loss: 0.5364 - acc: 0.7269 - val_loss: 0.5666 - val_acc: 0.7033\n",
      "Epoch 26/500\n",
      "50688/51084 [============================>.] - ETA: 0s - loss: 0.5342 - acc: 0.7287\n",
      "Epoch 00026: val_loss did not improve from 0.56642\n",
      "51084/51084 [==============================] - 19s 365us/sample - loss: 0.5344 - acc: 0.7284 - val_loss: 0.5666 - val_acc: 0.7035\n"
     ]
    },
    {
     "name": "stdout",
     "output_type": "stream",
     "text": [
      "Epoch 27/500\n",
      "50688/51084 [============================>.] - ETA: 0s - loss: 0.5324 - acc: 0.7304\n",
      "Epoch 00027: val_loss improved from 0.56642 to 0.56638, saving model to weights.best.h5\n",
      "51084/51084 [==============================] - 15s 298us/sample - loss: 0.5325 - acc: 0.7302 - val_loss: 0.5664 - val_acc: 0.7042\n",
      "Epoch 28/500\n",
      "50688/51084 [============================>.] - ETA: 0s - loss: 0.5300 - acc: 0.7321\n",
      "Epoch 00028: val_loss did not improve from 0.56638\n",
      "51084/51084 [==============================] - 15s 300us/sample - loss: 0.5302 - acc: 0.7319 - val_loss: 0.5667 - val_acc: 0.7027\n"
     ]
    },
    {
     "data": {
      "text/plain": [
       "<tensorflow.python.keras.callbacks.History at 0x7fa0cd6fa6d0>"
      ]
     },
     "execution_count": 8,
     "metadata": {},
     "output_type": "execute_result"
    }
   ],
   "source": [
    "from tensorflow.keras.callbacks import EarlyStopping\n",
    "earlystop_callback = EarlyStopping(\n",
    "    monitor='val_loss',\n",
    "    #monitor='val_acc',\n",
    "    #monitor='val_auc',\n",
    "    min_delta=0.0001,\n",
    "    patience=5)\n",
    "\n",
    "from tensorflow.keras.callbacks import ModelCheckpoint\n",
    "filepath=\"weights.best.h5\"\n",
    "checkpoint = ModelCheckpoint(filepath,\n",
    "                             #monitor='val_acc',\n",
    "                             monitor='val_loss',\n",
    "                             #monitor='val_auc',\n",
    "                             mode='min',\n",
    "                             save_best_only=True,\n",
    "                             verbose=1)\n",
    "\n",
    "#ohe.transform(train_y).toarray().shape\n",
    "model.fit(train_x, ohe.transform(train_y>0).toarray(), batch_size = batch_size,\n",
    "          validation_data=[valid_x, ohe.transform(valid_y>0).toarray()],\n",
    "          callbacks=[earlystop_callback, checkpoint], epochs=500)\n",
    "    #print(model.predict(xt[:num]), yt[:num], GetMidRes(model, 'out', xt[:num]))\n",
    "    #if np.isnan(model.predict(xt[:num])).sum() > 0:\n",
    "    #print(xt[:num], yt[:num], index, model.predict(xt[:num]))\n",
    "    #raw_input()\n",
    "    #break\n"
   ]
  },
  {
   "cell_type": "code",
   "execution_count": 9,
   "metadata": {},
   "outputs": [],
   "source": [
    "model.load_weights(filepath)"
   ]
  },
  {
   "cell_type": "code",
   "execution_count": 10,
   "metadata": {},
   "outputs": [
    {
     "data": {
      "image/png": "[encoded data removed]",
      "text/plain": [
       "<Figure size 432x288 with 1 Axes>"
      ]
     },
     "metadata": {
      "needs_background": "light"
     },
     "output_type": "display_data"
    }
   ],
   "source": [
    "h = model.history.history\n",
    "train_loss, valid_loss  = h['loss'], h['val_loss']\n",
    "plt.plot(train_loss, label='train loss')\n",
    "plt.plot(valid_loss, label='valid loss')\n",
    "plt.title('loss')\n",
    "plt.legend()\n",
    "plt.grid()\n",
    "plt.show()"
   ]
  },
  {
   "cell_type": "code",
   "execution_count": 11,
   "metadata": {},
   "outputs": [
    {
     "name": "stdout",
     "output_type": "stream",
     "text": [
      "Confusion matrix, without normalization\n"
     ]
    },
    {
     "data": {
      "image/png": "[encoded data removed]",
      "text/plain": [
       "<Figure size 432x288 with 2 Axes>"
      ]
     },
     "metadata": {
      "needs_background": "light"
     },
     "output_type": "display_data"
    },
    {
     "name": "stdout",
     "output_type": "stream",
     "text": [
      "              precision    recall  f1-score   support\n",
      "\n",
      "      class0       0.73      0.83      0.77      9683\n",
      "      class1       0.66      0.51      0.58      6281\n",
      "\n",
      "   micro avg       0.71      0.71      0.71     15964\n",
      "   macro avg       0.69      0.67      0.68     15964\n",
      "weighted avg       0.70      0.71      0.70     15964\n",
      "\n"
     ]
    },
    {
     "data": {
      "image/png": "[encoded data removed]",
      "text/plain": [
       "<Figure size 432x288 with 1 Axes>"
      ]
     },
     "metadata": {
      "needs_background": "light"
     },
     "output_type": "display_data"
    }
   ],
   "source": [
    "from ml_util import *\n",
    "pred = model.predict(test_x)\n",
    "pred.shape\n",
    "(pred.argmax(axis=1) == 0).mean()\n",
    "a = ClsReport(model,  test_y> 0, pred.argmax(axis=1), binary=True)"
   ]
  }
 ],
 "metadata": {
  "kernelspec": {
   "display_name": "Python 2",
   "language": "python",
   "name": "python2"
  },
  "language_info": {
   "codemirror_mode": {
    "name": "ipython",
    "version": 2
   },
   "file_extension": ".py",
   "mimetype": "text/x-python",
   "name": "python",
   "nbconvert_exporter": "python",
   "pygments_lexer": "ipython2",
   "version": "2.7.15"
  }
 },
 "nbformat": 4,
 "nbformat_minor": 2
}
